{
  "nbformat": 4,
  "nbformat_minor": 0,
  "metadata": {
    "colab": {
      "provenance": []
    },
    "kernelspec": {
      "name": "python3",
      "display_name": "Python 3"
    },
    "language_info": {
      "name": "python"
    }
  },
  "cells": [
    {
      "cell_type": "code",
      "execution_count": null,
      "metadata": {
        "id": "RQK8oqwftg-I"
      },
      "outputs": [],
      "source": [
        "#### triển khai tóm tắt tài liệu bằng Python và SpaCy, một công cụ xử lý ngôn ngữ tự nhiên (NLP)\n",
        "import spacy\n",
        "from spacy.lang.en.stop_words import STOP_WORDS\n",
        "from string import punctuation"
      ]
    },
    {
      "cell_type": "code",
      "source": [
        "f=open('sample_data/text.txt','r',errors = 'ignore')\n",
        "text = f.read()"
      ],
      "metadata": {
        "id": "J80TcmPxtr7Q"
      },
      "execution_count": null,
      "outputs": []
    },
    {
      "cell_type": "code",
      "source": [
        "# tách các từ trong văn bản thành các token và lưu chúng vào danh sách tokens\n",
        "stopwords = list(STOP_WORDS)\n",
        "nlp = spacy.load('en_core_web_sm')\n",
        "doc = nlp(text)\n",
        "\n",
        "tokens = [token.text for token in doc]\n",
        "\n",
        "print(punctuation)"
      ],
      "metadata": {
        "colab": {
          "base_uri": "https://localhost:8080/"
        },
        "id": "i-YthSODuEhg",
        "outputId": "504e504b-d839-4923-e406-903908b3f5a7"
      },
      "execution_count": null,
      "outputs": [
        {
          "output_type": "stream",
          "name": "stdout",
          "text": [
            "!\"#$%&'()*+,-./:;<=>?@[\\]^_`{|}~\n"
          ]
        }
      ]
    },
    {
      "cell_type": "code",
      "source": [
        "# in ra giá trị tần suất xuất hiện lớn nhất trong từ điển.\n",
        "word_frequencies = {}\n",
        "stopwords = set(STOP_WORDS)\n",
        "punctuation = set(punctuation)\n",
        "\n",
        "for word in doc:\n",
        "    if word.text.lower() not in stopwords and word.text.lower() not in punctuation:\n",
        "        if word.text not in word_frequencies.keys():\n",
        "            word_frequencies[word.text] = 1\n",
        "        else:\n",
        "            word_frequencies[word.text] += 1\n",
        "\n",
        "print(word_frequencies)\n",
        "\n",
        "max_frequency = max(word_frequencies.values())\n",
        "print(max_frequency)\n"
      ],
      "metadata": {
        "colab": {
          "base_uri": "https://localhost:8080/"
        },
        "id": "XLv7UFk5vkLP",
        "outputId": "f5e99e0e-b439-41ad-add0-e685fdbe3ff7"
      },
      "execution_count": null,
      "outputs": [
        {
          "output_type": "stream",
          "name": "stdout",
          "text": [
            "{'Như': 1, 'vậy': 2, 'có': 4, 'thể': 1, 'đánh': 1, 'giá': 1, 'lập': 3, 'trình': 3, 'viên': 1, 'website': 3, 'là': 5, 'một': 3, 'nghề': 4, 'rất': 3, 'tiềm': 1, 'năng': 3, 'trong': 3, 'thời': 1, 'gian': 1, 'tới': 1, 'Công': 1, 'việc': 1, 'này': 2, 'cũng': 3, 'những': 2, 'ngành': 1, 'đòi': 1, 'hỏi': 1, 'lực': 2, 'tốt': 2, 'vì': 3, 'thế': 1, 'lương': 1, 'xứng': 1, 'đáng': 2, 'với': 1, 'công': 1, 'sức': 1, 'và': 2, 'gì': 1, 'chúng': 1, 'ta': 1, 'bỏ': 1, 'ra': 1, '\\n\\n': 1, 'Tuy': 1, 'nhiên': 1, 'nhiều': 3, 'người': 1, 'cho': 1, 'rằng': 1, 'đang': 1, 'hot': 1, 'nên': 1, 'bạn': 3, 'quyết': 1, 'định': 1, 'theo': 1, 'dẫn': 1, 'đến': 1, 'cung': 1, 'hơn': 1, 'cầu': 1, 'tăng': 1, 'tỉ': 2, 'lệ': 2, 'chọi': 1, 'dễ': 1, 'thất': 2, 'nghiệp': 2, 'Thế': 1, 'nhưng': 2, 'thực': 1, 'tế': 1, 'lại': 1, 'không': 3, 'phải': 2, 'vẫn': 1, 'khát': 2, 'nhân': 2, 'sự': 2, 'giỏi': 1, 'Chỉ': 1, 'cần': 1, 'thì': 1, 'sẽ': 2, 'bao': 1, 'giờ': 1, 'lo': 1, 'cạnh': 1, 'tranh': 1, 'giảm': 1, 'nếu': 1, 'đối': 1, 'thủ': 1, 'gờm': 1}\n",
            "5\n"
          ]
        }
      ]
    },
    {
      "cell_type": "code",
      "source": [
        "# tần suất xuất hiện nhiều nhất của từ trong văn bản.\n",
        "max_frequency = max(word_frequencies.values())\n",
        "print (max_frequency)\n"
      ],
      "metadata": {
        "colab": {
          "base_uri": "https://localhost:8080/"
        },
        "id": "4Cf2pZJkwxwO",
        "outputId": "d5a92487-0754-42c2-f49b-5a40f9a02c55"
      },
      "execution_count": null,
      "outputs": [
        {
          "output_type": "stream",
          "name": "stdout",
          "text": [
            "5\n"
          ]
        }
      ]
    },
    {
      "cell_type": "code",
      "source": [
        "# chia tần suất xuất hiện của từ đó cho giá trị lớn nhất của tần suất trong toàn\n",
        "# bộ từ điển. Điều này sẽ chuyển đổi tần suất của các từ thành các giá trị từ 0 đến 1,\n",
        "# trong đó 1 đại diện cho từ xuất hiện nhiều nhất\n",
        "for word in word_frequencies.keys():\n",
        "  word_frequencies[word] = word_frequencies[word]/max_frequency\n",
        "\n",
        "print (word_frequencies)\n"
      ],
      "metadata": {
        "colab": {
          "base_uri": "https://localhost:8080/"
        },
        "id": "0beln0wyxrg9",
        "outputId": "a5636f0f-c71e-40bc-edf2-948dc220637c"
      },
      "execution_count": null,
      "outputs": [
        {
          "output_type": "stream",
          "name": "stdout",
          "text": [
            "{'Như': 0.2, 'vậy': 0.4, 'có': 0.8, 'thể': 0.2, 'đánh': 0.2, 'giá': 0.2, 'lập': 0.6, 'trình': 0.6, 'viên': 0.2, 'website': 0.6, 'là': 1.0, 'một': 0.6, 'nghề': 0.8, 'rất': 0.6, 'tiềm': 0.2, 'năng': 0.6, 'trong': 0.6, 'thời': 0.2, 'gian': 0.2, 'tới': 0.2, 'Công': 0.2, 'việc': 0.2, 'này': 0.4, 'cũng': 0.6, 'những': 0.4, 'ngành': 0.2, 'đòi': 0.2, 'hỏi': 0.2, 'lực': 0.4, 'tốt': 0.4, 'vì': 0.6, 'thế': 0.2, 'lương': 0.2, 'xứng': 0.2, 'đáng': 0.4, 'với': 0.2, 'công': 0.2, 'sức': 0.2, 'và': 0.4, 'gì': 0.2, 'chúng': 0.2, 'ta': 0.2, 'bỏ': 0.2, 'ra': 0.2, '\\n\\n': 0.2, 'Tuy': 0.2, 'nhiên': 0.2, 'nhiều': 0.6, 'người': 0.2, 'cho': 0.2, 'rằng': 0.2, 'đang': 0.2, 'hot': 0.2, 'nên': 0.2, 'bạn': 0.6, 'quyết': 0.2, 'định': 0.2, 'theo': 0.2, 'dẫn': 0.2, 'đến': 0.2, 'cung': 0.2, 'hơn': 0.2, 'cầu': 0.2, 'tăng': 0.2, 'tỉ': 0.4, 'lệ': 0.4, 'chọi': 0.2, 'dễ': 0.2, 'thất': 0.4, 'nghiệp': 0.4, 'Thế': 0.2, 'nhưng': 0.4, 'thực': 0.2, 'tế': 0.2, 'lại': 0.2, 'không': 0.6, 'phải': 0.4, 'vẫn': 0.2, 'khát': 0.4, 'nhân': 0.4, 'sự': 0.4, 'giỏi': 0.2, 'Chỉ': 0.2, 'cần': 0.2, 'thì': 0.2, 'sẽ': 0.4, 'bao': 0.2, 'giờ': 0.2, 'lo': 0.2, 'cạnh': 0.2, 'tranh': 0.2, 'giảm': 0.2, 'nếu': 0.2, 'đối': 0.2, 'thủ': 0.2, 'gờm': 0.2}\n"
          ]
        }
      ]
    },
    {
      "cell_type": "code",
      "source": [
        "#  trả về một danh sách các đối tượng Span tương ứng với mỗi câu trong văn bản.\n",
        "sentence_tokens = [sent for sent in doc. sents]\n",
        "print(sentence_tokens)\n",
        "\n",
        "\n"
      ],
      "metadata": {
        "colab": {
          "base_uri": "https://localhost:8080/"
        },
        "id": "eKh2s0Fmxrnk",
        "outputId": "6f6c5157-599c-4417-d404-da786b52b55b"
      },
      "execution_count": null,
      "outputs": [
        {
          "output_type": "stream",
          "name": "stdout",
          "text": [
            "[Như vậy, có thể đánh giá lập trình viên website là một nghề rất tiềm năng trong thời gian tới., Công việc này cũng là một trong những ngành đòi hỏi có năng lực tốt, vì thế lương lập trình website cũng rất xứng đáng với công sức và những gì chúng ta bỏ ra.\n",
            "\n",
            ", Tuy nhiên, nhiều người cho rằng vì đang là nghề hot nên có rất nhiều bạn quyết định theo lập trình website, dẫn đến cung nhiều hơn cầu, tăng tỉ lệ chọi trong nghề và dễ thất nghiệp., Thế nhưng thực tế lại không phải vậy, vì nghề này vẫn khát nhân sự, nhưng là khát nhân sự giỏi., Chỉ cần bạn có năng lực tốt thì sẽ không bao giờ lo thất nghiệp, tỉ lệ cạnh tranh cũng sẽ giảm nếu bạn là một đối thủ đáng gờm, phải không?]\n"
          ]
        }
      ]
    },
    {
      "cell_type": "code",
      "source": [
        "\n",
        "# CHAT GPT\n",
        "sentence_scores = {}\n",
        "for sent in doc.sents:\n",
        "    for word in sent:\n",
        "        if word.text.lower() not in stopwords and word.text.lower() not in punctuation:\n",
        "            if sent not in sentence_scores.keys():\n",
        "                sentence_scores[sent] = word_frequencies[word.text]\n",
        "            else:\n",
        "                sentence_scores[sent] += word_frequencies[word.text]\n",
        "\n",
        "# Normalize the scores by dividing each sentence score by the maximum score\n",
        "max_score = max(sentence_scores.values())\n",
        "for sentence in sentence_scores:\n",
        "    sentence_scores[sentence] = sentence_scores[sentence] / max_score\n",
        "\n",
        "# Get the most important sentences based on the score threshold\n",
        "threshold = 0.5\n",
        "important_sentences = [sent for sent, score in sentence_scores.items() if score >= threshold]\n"
      ],
      "metadata": {
        "id": "WLjNPfF-xrp5"
      },
      "execution_count": null,
      "outputs": []
    },
    {
      "cell_type": "code",
      "source": [
        "# tính điểm số cho từng câu trong văn bản\n",
        "# Kết quả cuối cùng là một từ điển với key là từng câu và giá trị là điểm số của câu đó\n",
        "sentence_scores = {}\n",
        "\n",
        "for sent in sentence_tokens:\n",
        "    for word in sent:\n",
        "        if word.text.lower() in word_frequencies.keys():\n",
        "            if sent not in sentence_scores.keys():\n",
        "                sentence_scores[sent] = word_frequencies[word.text.lower()]\n",
        "            else:\n",
        "                sentence_scores[sent] += word_frequencies[word.text.lower()]\n",
        "\n",
        "print(sentence_scores)\n"
      ],
      "metadata": {
        "colab": {
          "base_uri": "https://localhost:8080/"
        },
        "id": "lNy-xYGfytRd",
        "outputId": "49ae097d-1de5-46be-8416-cccc381b4215"
      },
      "execution_count": null,
      "outputs": [
        {
          "output_type": "stream",
          "name": "stdout",
          "text": [
            "{Như vậy, có thể đánh giá lập trình viên website là một nghề rất tiềm năng trong thời gian tới.: 8.799999999999997, Công việc này cũng là một trong những ngành đòi hỏi có năng lực tốt, vì thế lương lập trình website cũng rất xứng đáng với công sức và những gì chúng ta bỏ ra.\n",
            "\n",
            ": 13.999999999999993, Tuy nhiên, nhiều người cho rằng vì đang là nghề hot nên có rất nhiều bạn quyết định theo lập trình website, dẫn đến cung nhiều hơn cầu, tăng tỉ lệ chọi trong nghề và dễ thất nghiệp.: 14.999999999999995, Thế nhưng thực tế lại không phải vậy, vì nghề này vẫn khát nhân sự, nhưng là khát nhân sự giỏi.: 8.600000000000001, Chỉ cần bạn có năng lực tốt thì sẽ không bao giờ lo thất nghiệp, tỉ lệ cạnh tranh cũng sẽ giảm nếu bạn là một đối thủ đáng gờm, phải không?: 12.399999999999999}\n"
          ]
        }
      ]
    },
    {
      "cell_type": "code",
      "source": [
        "# sử dụng module heapq để lấy ra select_length câu có điểm số cao nhất từ sentence_scores\n",
        "from heapq import nlargest\n",
        "\n",
        "select_length = int(len(sentence_tokens)*0.3)\n",
        "print(select_length)\n",
        "\n",
        "summary = nlargest(select_length, sentence_scores, key=sentence_scores.get)\n",
        "\n",
        "print(summary)\n"
      ],
      "metadata": {
        "colab": {
          "base_uri": "https://localhost:8080/"
        },
        "id": "SK5ivObOzCIc",
        "outputId": "14d2a20a-fe55-4f72-f4d6-cedad4eb86a6"
      },
      "execution_count": null,
      "outputs": [
        {
          "output_type": "stream",
          "name": "stdout",
          "text": [
            "1\n",
            "[Tuy nhiên, nhiều người cho rằng vì đang là nghề hot nên có rất nhiều bạn quyết định theo lập trình website, dẫn đến cung nhiều hơn cầu, tăng tỉ lệ chọi trong nghề và dễ thất nghiệp.]\n"
          ]
        }
      ]
    },
    {
      "cell_type": "code",
      "source": [],
      "metadata": {
        "id": "al5otRoOzCKM"
      },
      "execution_count": null,
      "outputs": []
    }
  ]
}